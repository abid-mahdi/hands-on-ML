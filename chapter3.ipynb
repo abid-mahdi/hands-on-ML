{
  "nbformat": 4,
  "nbformat_minor": 0,
  "metadata": {
    "colab": {
      "name": "chapter3.ipynb",
      "provenance": []
    },
    "kernelspec": {
      "name": "python3",
      "display_name": "Python 3"
    },
    "language_info": {
      "name": "python"
    }
  },
  "cells": [
    {
      "cell_type": "markdown",
      "source": [
        "**1. Fetch dataset**"
      ],
      "metadata": {
        "id": "56Z21inkcyAu"
      }
    },
    {
      "cell_type": "code",
      "execution_count": null,
      "metadata": {
        "id": "Oo3-i4Dfcuik"
      },
      "outputs": [],
      "source": [
        "from sklearn.datasets import fetch_openml\n",
        "\n",
        "mnist = fetch_openml('mnist_784', version=1)"
      ]
    },
    {
      "cell_type": "markdown",
      "source": [
        "The MNIST dataset contains 70,000 small images of handwritten digits."
      ],
      "metadata": {
        "id": "73EmQiG1dJSm"
      }
    },
    {
      "cell_type": "code",
      "source": [
        "print(type(mnist))\n",
        "mnist.keys()"
      ],
      "metadata": {
        "colab": {
          "base_uri": "https://localhost:8080/"
        },
        "id": "Gmx_3klpdzrk",
        "outputId": "eafd77c6-fbec-4185-cb92-659543c21345"
      },
      "execution_count": null,
      "outputs": [
        {
          "output_type": "stream",
          "name": "stdout",
          "text": [
            "<class 'sklearn.utils.Bunch'>\n"
          ]
        },
        {
          "output_type": "execute_result",
          "data": {
            "text/plain": [
              "dict_keys(['data', 'target', 'frame', 'categories', 'feature_names', 'target_names', 'DESCR', 'details', 'url'])"
            ]
          },
          "metadata": {},
          "execution_count": 29
        }
      ]
    },
    {
      "cell_type": "markdown",
      "source": [
        "https://scikit-learn.org/stable/modules/generated/sklearn.utils.Bunch.html - More information about Bunch data type"
      ],
      "metadata": {
        "id": "WeYQcb0zeNYS"
      }
    },
    {
      "cell_type": "markdown",
      "source": [
        "**2. Explore dataset**"
      ],
      "metadata": {
        "id": "-vvBvDZOedJW"
      }
    },
    {
      "cell_type": "code",
      "source": [
        "X = mnist['data']\n",
        "y = mnist['target']\n",
        "\n",
        "print('Data shape:', X.shape)\n",
        "print('Target shape:', y.shape)\n",
        "\n",
        "print(X)"
      ],
      "metadata": {
        "colab": {
          "base_uri": "https://localhost:8080/"
        },
        "id": "_IJ7zPqeegwN",
        "outputId": "b0d6c43d-7fb2-459e-c3ba-e677e9d51061"
      },
      "execution_count": null,
      "outputs": [
        {
          "output_type": "stream",
          "name": "stdout",
          "text": [
            "Data shape: (70000, 784)\n",
            "Target shape: (70000,)\n",
            "       pixel1  pixel2  pixel3  pixel4  ...  pixel781  pixel782  pixel783  pixel784\n",
            "0         0.0     0.0     0.0     0.0  ...       0.0       0.0       0.0       0.0\n",
            "1         0.0     0.0     0.0     0.0  ...       0.0       0.0       0.0       0.0\n",
            "2         0.0     0.0     0.0     0.0  ...       0.0       0.0       0.0       0.0\n",
            "3         0.0     0.0     0.0     0.0  ...       0.0       0.0       0.0       0.0\n",
            "4         0.0     0.0     0.0     0.0  ...       0.0       0.0       0.0       0.0\n",
            "...       ...     ...     ...     ...  ...       ...       ...       ...       ...\n",
            "69995     0.0     0.0     0.0     0.0  ...       0.0       0.0       0.0       0.0\n",
            "69996     0.0     0.0     0.0     0.0  ...       0.0       0.0       0.0       0.0\n",
            "69997     0.0     0.0     0.0     0.0  ...       0.0       0.0       0.0       0.0\n",
            "69998     0.0     0.0     0.0     0.0  ...       0.0       0.0       0.0       0.0\n",
            "69999     0.0     0.0     0.0     0.0  ...       0.0       0.0       0.0       0.0\n",
            "\n",
            "[70000 rows x 784 columns]\n"
          ]
        }
      ]
    },
    {
      "cell_type": "markdown",
      "source": [
        "28x28 = 784. The data is an array of the pixel values (between 0 and 255)."
      ],
      "metadata": {
        "id": "3Uw7IQ8Slc8o"
      }
    },
    {
      "cell_type": "code",
      "source": [
        "import matplotlib as mpl\n",
        "import matplotlib.pyplot as plt\n",
        "\n",
        "import numpy as np\n",
        "\n",
        "some_digit = X.to_numpy()[0]\n",
        "some_digit_image = some_digit.reshape(28, 28)\n",
        "\n",
        "plt.imshow(some_digit_image, cmap='binary')\n",
        "plt.axis('off')\n",
        "plt.show()\n",
        "\n",
        "print('Target:', y[0])"
      ],
      "metadata": {
        "colab": {
          "base_uri": "https://localhost:8080/",
          "height": 265
        },
        "id": "BVFeZb_3lRl3",
        "outputId": "5ef814c4-ceba-49a5-bc93-618804f7faa9"
      },
      "execution_count": null,
      "outputs": [
        {
          "output_type": "display_data",
          "data": {
            "image/png": "[encoded data removed]",
            "text/plain": [
              "<Figure size 432x288 with 1 Axes>"
            ]
          },
          "metadata": {
            "needs_background": "light"
          }
        },
        {
          "output_type": "stream",
          "name": "stdout",
          "text": [
            "Target: 5\n"
          ]
        }
      ]
    },
    {
      "cell_type": "markdown",
      "source": [
        "**3. Prepare for classifier**"
      ],
      "metadata": {
        "id": "r5BErD45oo6f"
      }
    },
    {
      "cell_type": "code",
      "source": [
        "# Convert targets to ints for ML algorithms\n",
        "y = y.astype(np.uint8)"
      ],
      "metadata": {
        "id": "luiEuVJDnXx3"
      },
      "execution_count": null,
      "outputs": []
    },
    {
      "cell_type": "code",
      "source": [
        "# Create training and test set\n",
        "X_train = X[:60000]\n",
        "X_test = X[60000:]\n",
        "y_train = y[:60000]\n",
        "y_test = y[60000:]"
      ],
      "metadata": {
        "id": "Qn7zaHfFXFvA"
      },
      "execution_count": null,
      "outputs": []
    },
    {
      "cell_type": "markdown",
      "source": [
        "Dataset set is already shuffled. Select first 60,000 for training and remaining for testing."
      ],
      "metadata": {
        "id": "7qU0Yqh2Xwph"
      }
    },
    {
      "cell_type": "markdown",
      "source": [
        "**4. Trying binary classifiers**"
      ],
      "metadata": {
        "id": "hGnyVxyoY6I9"
      }
    },
    {
      "cell_type": "code",
      "source": [
        "# Prepare for binary classification\n",
        "y_train_5 = (y_train == 5)\n",
        "y_test_5 = (y_test == 5)\n",
        "\n",
        "print(y_test_5)"
      ],
      "metadata": {
        "colab": {
          "base_uri": "https://localhost:8080/"
        },
        "id": "MqSLyLXUZVjl",
        "outputId": "ebf9172f-6eb6-407d-e58e-0b72f937d004"
      },
      "execution_count": null,
      "outputs": [
        {
          "output_type": "stream",
          "name": "stdout",
          "text": [
            "60000    False\n",
            "60001    False\n",
            "60002    False\n",
            "60003    False\n",
            "60004    False\n",
            "         ...  \n",
            "69995    False\n",
            "69996    False\n",
            "69997    False\n",
            "69998     True\n",
            "69999    False\n",
            "Name: class, Length: 10000, dtype: bool\n"
          ]
        }
      ]
    },
    {
      "cell_type": "code",
      "source": [
        "from sklearn.linear_model import SGDClassifier\n",
        "\n",
        "sgd_clf = SGDClassifier(random_state = 42) # Relies on randomness during training, for reproducible results set the parameter\n",
        "sgd_clf.fit(X_train, y_train_5) # Train on whole training set"
      ],
      "metadata": {
        "colab": {
          "base_uri": "https://localhost:8080/"
        },
        "id": "sx9iu27RYidm",
        "outputId": "550a94d9-b9aa-4ab4-a1fb-8153505b74bc"
      },
      "execution_count": null,
      "outputs": [
        {
          "output_type": "execute_result",
          "data": {
            "text/plain": [
              "SGDClassifier(random_state=42)"
            ]
          },
          "metadata": {},
          "execution_count": 35
        }
      ]
    },
    {
      "cell_type": "code",
      "source": [
        "sgd_clf.predict([some_digit]) # Predict hand drawn 5 from earlier"
      ],
      "metadata": {
        "colab": {
          "base_uri": "https://localhost:8080/"
        },
        "id": "Qi6IDwwhamo7",
        "outputId": "bd0ff2a1-34b7-4f53-a974-8c0cf43468d0"
      },
      "execution_count": null,
      "outputs": [
        {
          "output_type": "stream",
          "name": "stderr",
          "text": [
            "/usr/local/lib/python3.7/dist-packages/sklearn/base.py:446: UserWarning: X does not have valid feature names, but SGDClassifier was fitted with feature names\n",
            "  \"X does not have valid feature names, but\"\n"
          ]
        },
        {
          "output_type": "execute_result",
          "data": {
            "text/plain": [
              "array([ True])"
            ]
          },
          "metadata": {},
          "execution_count": 36
        }
      ]
    },
    {
      "cell_type": "markdown",
      "source": [
        "**5. Implementing cross-validation**"
      ],
      "metadata": {
        "id": "BYM_Fybghio3"
      }
    },
    {
      "cell_type": "markdown",
      "source": [
        "At each iteration: create clone of classifier, train the clone on the training folds, and make prediction on test fold."
      ],
      "metadata": {
        "id": "4KCCglflkOs6"
      }
    },
    {
      "cell_type": "code",
      "source": [
        "from sklearn.model_selection import StratifiedKFold\n",
        "from sklearn.base import clone\n",
        "\n",
        "skfolds = StratifiedKFold(n_splits=3, shuffle=True, random_state=42)\n",
        "\n",
        "for train_index, test_index in skfolds.split(X_train, y_train_5):\n",
        "  clone_clf = clone(sgd_clf)\n",
        "  \n",
        "  X_train_folds = X_train.iloc[train_index]\n",
        "  y_train_folds = y_train_5[train_index]\n",
        "  X_test_fold = X_train.iloc[test_index]\n",
        "  y_test_fold = y_train_5[test_index]\n",
        "\n",
        "  clone_clf.fit(X_train_folds, y_train_folds)\n",
        "  \n",
        "  y_pred = clone_clf.predict(X_test_fold)\n",
        "  n_correct = sum(y_pred == y_test_fold)\n",
        "  print(n_correct / len(y_pred))"
      ],
      "metadata": {
        "colab": {
          "base_uri": "https://localhost:8080/"
        },
        "id": "H2VOP_hkfx3a",
        "outputId": "592f30ad-e545-4628-bb24-31ac6a779cc5"
      },
      "execution_count": null,
      "outputs": [
        {
          "output_type": "stream",
          "name": "stdout",
          "text": [
            "0.9669\n",
            "0.91625\n",
            "0.96785\n"
          ]
        }
      ]
    },
    {
      "cell_type": "markdown",
      "source": [
        "*Update from book: use iloc.*\n",
        "\n",
        ".iloc helps us select a particular cell of a DataFrame\n",
        "\n",
        "https://www.askpython.com/python/built-in-methods/python-iloc-function - more info"
      ],
      "metadata": {
        "id": "qrJYl5rji8Tx"
      }
    },
    {
      "cell_type": "markdown",
      "source": [
        "**6. Using scikitlearn's cross validation**"
      ],
      "metadata": {
        "id": "Xt3DOVphpbGj"
      }
    },
    {
      "cell_type": "code",
      "source": [
        "from sklearn.model_selection import cross_val_score\n",
        "\n",
        "# 3-fold cross validation\n",
        "cross_val_score(sgd_clf, X_train, y_train_5, cv=3, scoring='accuracy')"
      ],
      "metadata": {
        "colab": {
          "base_uri": "https://localhost:8080/"
        },
        "id": "Pr3fYLhUo-bm",
        "outputId": "321b07f4-7563-473d-ce31-a401ebff484b"
      },
      "execution_count": null,
      "outputs": [
        {
          "output_type": "execute_result",
          "data": {
            "text/plain": [
              "array([0.95035, 0.96035, 0.9604 ])"
            ]
          },
          "metadata": {},
          "execution_count": 38
        }
      ]
    },
    {
      "cell_type": "markdown",
      "source": [
        "**7. Confusion matrix**"
      ],
      "metadata": {
        "id": "thKkjtEPr3fq"
      }
    },
    {
      "cell_type": "code",
      "source": [
        "from sklearn.model_selection import cross_val_predict\n",
        "\n",
        "# Performs cros-validation, but instead of returning evaluation scores, it returns the predictions made on each test fold\n",
        "y_train_pred = cross_val_predict(sgd_clf, X_train, y_train_5, cv=3)\n",
        "y_train_pred"
      ],
      "metadata": {
        "colab": {
          "base_uri": "https://localhost:8080/"
        },
        "id": "8DQmR6YUr707",
        "outputId": "b815da8b-2933-4a2f-bd99-fc2bef7d7532"
      },
      "execution_count": null,
      "outputs": [
        {
          "output_type": "execute_result",
          "data": {
            "text/plain": [
              "array([ True, False, False, ...,  True, False, False])"
            ]
          },
          "metadata": {},
          "execution_count": 39
        }
      ]
    },
    {
      "cell_type": "code",
      "source": [
        "from sklearn.metrics import confusion_matrix\n",
        "\n",
        "confusion_matrix(y_train_5, y_train_pred)"
      ],
      "metadata": {
        "colab": {
          "base_uri": "https://localhost:8080/"
        },
        "id": "VJwuI7Z8sx4L",
        "outputId": "ce88cf53-9af7-4b3f-98d1-08fabc5b8607"
      },
      "execution_count": null,
      "outputs": [
        {
          "output_type": "execute_result",
          "data": {
            "text/plain": [
              "array([[53892,   687],\n",
              "       [ 1891,  3530]])"
            ]
          },
          "metadata": {},
          "execution_count": 40
        }
      ]
    },
    {
      "cell_type": "markdown",
      "source": [
        "TN = 53,892\n",
        "\n",
        "FP = 687\n",
        "\n",
        "FN = 1891\n",
        "\n",
        "TP = 3530"
      ],
      "metadata": {
        "id": "2syIh6Patznp"
      }
    },
    {
      "cell_type": "markdown",
      "source": [
        "**8. Investigating the precision/recall trade-off**"
      ],
      "metadata": {
        "id": "WvHh48NmXIRc"
      }
    },
    {
      "cell_type": "code",
      "source": [
        "from sklearn.metrics import precision_score, recall_score, f1_score\n",
        "\n",
        "print('Precision:', precision_score(y_train_5, y_train_pred))\n",
        "print('Recall:', recall_score(y_train_5, y_train_pred))\n",
        "print('F1 score:', f1_score(y_train_5, y_train_pred))"
      ],
      "metadata": {
        "colab": {
          "base_uri": "https://localhost:8080/"
        },
        "id": "d4po5s84t_p0",
        "outputId": "2e0d7458-c5f8-4810-8835-1857cd8b2cd5"
      },
      "execution_count": null,
      "outputs": [
        {
          "output_type": "stream",
          "name": "stdout",
          "text": [
            "Precision: 0.8370879772350012\n",
            "Recall: 0.6511713705958311\n",
            "F1 score: 0.7325171197343846\n"
          ]
        }
      ]
    },
    {
      "cell_type": "code",
      "source": [
        "# Return the decision scores of all the instances in the training set\n",
        "y_scores = cross_val_predict(sgd_clf, X_train, y_train_5, cv=3,\n",
        "                             method='decision_function')\n",
        "y_scores"
      ],
      "metadata": {
        "colab": {
          "base_uri": "https://localhost:8080/"
        },
        "id": "HnJYhNdqXVFN",
        "outputId": "1fae0c37-def9-4636-9cc3-b943faf5f485"
      },
      "execution_count": null,
      "outputs": [
        {
          "output_type": "execute_result",
          "data": {
            "text/plain": [
              "array([  1200.93051237, -26883.79202424, -33072.03475406, ...,\n",
              "        13272.12718981,  -7258.47203373, -16877.50840447])"
            ]
          },
          "metadata": {},
          "execution_count": 42
        }
      ]
    },
    {
      "cell_type": "code",
      "source": [
        "from sklearn.metrics import precision_recall_curve\n",
        "\n",
        "precisions, recalls, thresholds = precision_recall_curve(y_train_5, y_scores)\n",
        "\n",
        "def plot_precision_recall_vs_threshold(precisions, recalls, thresholds):\n",
        "  plt.plot(thresholds, precisions[:-1], 'b--', label='Precision')\n",
        "  plt.plot(thresholds, recalls[:-1], 'g-', label='Recall')\n",
        "  plt.xlabel('Threshold')\n",
        "  plt.grid()\n",
        "  plt.legend()\n",
        "\n",
        "plot_precision_recall_vs_threshold(precisions, recalls, thresholds)\n",
        "plt.show()"
      ],
      "metadata": {
        "colab": {
          "base_uri": "https://localhost:8080/",
          "height": 279
        },
        "id": "yXBagSVxYw0D",
        "outputId": "76280362-4aa4-4aac-8332-e219047925ce"
      },
      "execution_count": null,
      "outputs": [
        {
          "output_type": "display_data",
          "data": {
            "image/png": "[encoded data removed]",
            "text/plain": [
              "<Figure size 432x288 with 1 Axes>"
            ]
          },
          "metadata": {
            "needs_background": "light"
          }
        }
      ]
    },
    {
      "cell_type": "code",
      "source": [
        "plt.plot(recalls[:-1], precisions[:-1])\n",
        "plt.xlabel('Recall')\n",
        "plt.ylabel('Precision')\n",
        "plt.grid()\n",
        "plt.show()"
      ],
      "metadata": {
        "colab": {
          "base_uri": "https://localhost:8080/",
          "height": 279
        },
        "id": "X6VUXW8FaUhi",
        "outputId": "4e6864da-b7d1-4c40-b8a1-7db7dd10cbbc"
      },
      "execution_count": null,
      "outputs": [
        {
          "output_type": "display_data",
          "data": {
            "image/png": "[encoded data removed]",
            "text/plain": [
              "<Figure size 432x288 with 1 Axes>"
            ]
          },
          "metadata": {
            "needs_background": "light"
          }
        }
      ]
    },
    {
      "cell_type": "code",
      "source": [
        "# Plot ROC Curve\n",
        "from sklearn.metrics import roc_curve\n",
        "\n",
        "fpr, tpr, thresholds = roc_curve(y_train_5, y_scores)\n",
        "\n",
        "def plot_roc_curve(fpr, tpr, label=None):\n",
        "  plt.plot(fpr, tpr, linewidth=2, label=label)\n",
        "  plt.plot([0, 1], [0, 1], 'k--') # Dashed diagonal\n",
        "  plt.grid()\n",
        "  plt.xlabel('False Positive Rate')\n",
        "  plt.ylabel('True Positive Rate (Recall)')\n",
        "  plt.show()\n",
        "\n",
        "plot_roc_curve(fpr, tpr)\n",
        "plt.show()"
      ],
      "metadata": {
        "colab": {
          "base_uri": "https://localhost:8080/",
          "height": 279
        },
        "id": "dSG07D9ycq78",
        "outputId": "b78d36e6-3c5f-4eee-d5f9-cd1ff7da53d0"
      },
      "execution_count": null,
      "outputs": [
        {
          "output_type": "display_data",
          "data": {
            "image/png": "[encoded data removed]",
            "text/plain": [
              "<Figure size 432x288 with 1 Axes>"
            ]
          },
          "metadata": {
            "needs_background": "light"
          }
        }
      ]
    },
    {
      "cell_type": "markdown",
      "source": [
        "Trade-off: the higher the recall (TPR), the more false positives (FPR) the classifier produces. The dotted line represents the ROC curve of a purely random classifier; a good classifier stays far away from that line as possible (toward the top-left corner).\n",
        "\n",
        "We can compute the area under the curve (AUC).\n",
        "Good classifier will have area equal to 1.\n",
        "Purely random classifier will have area equal to 0.5."
      ],
      "metadata": {
        "id": "fk6YO6i1dtga"
      }
    },
    {
      "cell_type": "code",
      "source": [
        "from sklearn.metrics import roc_auc_score\n",
        "\n",
        "# Compute the ROC (AUC)\n",
        "roc_auc_score(y_train_5, y_scores)"
      ],
      "metadata": {
        "colab": {
          "base_uri": "https://localhost:8080/"
        },
        "id": "vDTmONJ1eVgX",
        "outputId": "83b32e5f-fc4a-4822-c571-d8a09b6dfb82"
      },
      "execution_count": null,
      "outputs": [
        {
          "output_type": "execute_result",
          "data": {
            "text/plain": [
              "0.9604938554008616"
            ]
          },
          "metadata": {},
          "execution_count": 48
        }
      ]
    },
    {
      "cell_type": "markdown",
      "source": [
        "**9. Trying other classifiers**"
      ],
      "metadata": {
        "id": "KjJ3tFDOilHf"
      }
    },
    {
      "cell_type": "code",
      "source": [
        "from sklearn.ensemble import RandomForestClassifier\n",
        "\n",
        "forest_clf =  RandomForestClassifier(random_state=42)\n",
        "y_probas_forest = cross_val_predict(forest_clf, X_train, y_train_5, cv=3,\n",
        "                                    method='predict_proba')"
      ],
      "metadata": {
        "id": "d6gWWb25iqat"
      },
      "execution_count": null,
      "outputs": []
    },
    {
      "cell_type": "code",
      "source": [
        "# roc_curve() function expects labels and scores. \n",
        "# Instead of scores we can give probabilities.\n",
        "y_scores_forest = y_probas_forest[:, 1] # score = proba of positive class\n",
        "fpr_forest, tpr_forest, thresholds_forest = roc_curve(y_train_5, y_scores_forest)\n",
        "\n",
        "plt.plot(fpr, tpr, 'b:', label='SGD')\n",
        "plot_roc_curve(fpr_forest, tpr_forest, label='Random Forest')\n",
        "plt.show()"
      ],
      "metadata": {
        "colab": {
          "base_uri": "https://localhost:8080/",
          "height": 279
        },
        "id": "dNBtNQG6k3KT",
        "outputId": "0d414255-5a53-4521-844b-3d4bc62d4909"
      },
      "execution_count": null,
      "outputs": [
        {
          "output_type": "display_data",
          "data": {
            "image/png": "[encoded data removed]",
            "text/plain": [
              "<Figure size 432x288 with 1 Axes>"
            ]
          },
          "metadata": {
            "needs_background": "light"
          }
        }
      ]
    },
    {
      "cell_type": "code",
      "source": [
        "roc_auc_score(y_train_5, y_scores_forest)"
      ],
      "metadata": {
        "colab": {
          "base_uri": "https://localhost:8080/"
        },
        "id": "5ncK5-ygnLWb",
        "outputId": "c91aedf0-d7a5-4fa9-a2c3-86740177d131"
      },
      "execution_count": null,
      "outputs": [
        {
          "output_type": "execute_result",
          "data": {
            "text/plain": [
              "0.9983436731328145"
            ]
          },
          "metadata": {},
          "execution_count": 52
        }
      ]
    },
    {
      "cell_type": "markdown",
      "source": [
        "As shown by the graph, the RandomForestClassifer works better than the SGD classifier. The RandomForestClassifier has a bigger ROC AUC as it is further in the top left corner than the SGD."
      ],
      "metadata": {
        "id": "9cZLMo01m42a"
      }
    },
    {
      "cell_type": "markdown",
      "source": [
        "**10. Multiclass classification**"
      ],
      "metadata": {
        "id": "UOL0_RrwneCw"
      }
    },
    {
      "cell_type": "code",
      "source": [
        "# Multiclass classification with a SVM\n",
        "\n",
        "from sklearn.svm import SVC\n",
        "\n",
        "svm_clf = SVC()\n",
        "svm_clf.fit(X_train.values, y_train)\n",
        "svm_clf.predict([some_digit])"
      ],
      "metadata": {
        "colab": {
          "base_uri": "https://localhost:8080/"
        },
        "id": "ATRV1SyPniqd",
        "outputId": "a1c018e7-ee15-4148-e285-96ccbcffaeab"
      },
      "execution_count": null,
      "outputs": [
        {
          "output_type": "execute_result",
          "data": {
            "text/plain": [
              "array([5], dtype=uint8)"
            ]
          },
          "metadata": {},
          "execution_count": 54
        }
      ]
    },
    {
      "cell_type": "markdown",
      "source": [
        "Scikit-Learn automatically detects it is a multi-class classification task. It performs the OvO (one v one) stratgey, training 45 binary classifiers."
      ],
      "metadata": {
        "id": "p6FvhXzrodsu"
      }
    },
    {
      "cell_type": "code",
      "source": [
        "some_digit_scores = svm_clf.decision_function([some_digit])\n",
        "some_digit_scores"
      ],
      "metadata": {
        "colab": {
          "base_uri": "https://localhost:8080/"
        },
        "id": "67QoH3-BpzE8",
        "outputId": "ce1329b0-7bdd-42e2-a48f-985cb5c3ae5a"
      },
      "execution_count": null,
      "outputs": [
        {
          "output_type": "execute_result",
          "data": {
            "text/plain": [
              "array([[ 1.72501977,  2.72809088,  7.2510018 ,  8.3076379 , -0.31087254,\n",
              "         9.3132482 ,  1.70975103,  2.76765202,  6.23049537,  4.84771048]])"
            ]
          },
          "metadata": {},
          "execution_count": 55
        }
      ]
    },
    {
      "cell_type": "markdown",
      "source": [
        "10 scores returned per instance - one score per class representing the number of won duels plus or minus a small tweak to break ties, based on the binary classifier scores"
      ],
      "metadata": {
        "id": "v9nnjKEhrQ8E"
      }
    },
    {
      "cell_type": "code",
      "source": [
        "# Forcing the strategy: OvO or OvR\n",
        "from sklearn.multiclass import OneVsRestClassifier\n",
        "\n",
        "ovr_clf = OneVsRestClassifier(SVC())\n",
        "ovr_clf.fit(X_train.values, y_train)\n",
        "ovr_clf.predict([some_digit])"
      ],
      "metadata": {
        "colab": {
          "base_uri": "https://localhost:8080/"
        },
        "id": "ONcElOhMpN-Z",
        "outputId": "ea26ec8a-cff4-42bc-e6de-611b25a10499"
      },
      "execution_count": null,
      "outputs": [
        {
          "output_type": "execute_result",
          "data": {
            "text/plain": [
              "array([5], dtype=uint8)"
            ]
          },
          "metadata": {},
          "execution_count": 56
        }
      ]
    },
    {
      "cell_type": "code",
      "source": [
        "# Multiclass classification with a SGDClassifier\n",
        "sgd_clf.fit(X_train.values, y_train)\n",
        "sgd_clf.predict([some_digit])"
      ],
      "metadata": {
        "colab": {
          "base_uri": "https://localhost:8080/"
        },
        "id": "crL5nmDQqwMQ",
        "outputId": "38e7b546-7487-4a52-924e-a18ec9358a6d"
      },
      "execution_count": null,
      "outputs": [
        {
          "output_type": "execute_result",
          "data": {
            "text/plain": [
              "array([3], dtype=uint8)"
            ]
          },
          "metadata": {},
          "execution_count": 57
        }
      ]
    },
    {
      "cell_type": "code",
      "source": [
        "sgd_clf.decision_function([some_digit])"
      ],
      "metadata": {
        "colab": {
          "base_uri": "https://localhost:8080/"
        },
        "id": "BkBhJvDwrGRf",
        "outputId": "69545a99-7f0a-4f37-dd17-9fdd0029a970"
      },
      "execution_count": null,
      "outputs": [
        {
          "output_type": "execute_result",
          "data": {
            "text/plain": [
              "array([[-31893.03095419, -34419.69069632,  -9530.63950739,\n",
              "          1823.73154031, -22320.14822878,  -1385.80478895,\n",
              "        -26188.91070951, -16147.51323997,  -4604.35491274,\n",
              "        -12050.767298  ]])"
            ]
          },
          "metadata": {},
          "execution_count": 58
        }
      ]
    },
    {
      "cell_type": "markdown",
      "source": [
        "10 scores returned in total this time. Classifier used a OvR strategy unde the hood. The classifier predicted wrong."
      ],
      "metadata": {
        "id": "YfzbK9Spr5ds"
      }
    },
    {
      "cell_type": "code",
      "source": [
        "cross_val_score(sgd_clf, X_train, y_train, cv=3, scoring='accuracy')"
      ],
      "metadata": {
        "colab": {
          "base_uri": "https://localhost:8080/"
        },
        "id": "43nuTCiysGYM",
        "outputId": "6bccdb3e-2341-435f-b6b1-ba128ee856c8"
      },
      "execution_count": null,
      "outputs": [
        {
          "output_type": "execute_result",
          "data": {
            "text/plain": [
              "array([0.87365, 0.85835, 0.8689 ])"
            ]
          },
          "metadata": {},
          "execution_count": 59
        }
      ]
    },
    {
      "cell_type": "markdown",
      "source": [
        "85%+ accuracy on all test folds. Random guessing would get around 10%. We can improve this by scaling the inputs."
      ],
      "metadata": {
        "id": "bkHbiGmV1GRV"
      }
    },
    {
      "cell_type": "code",
      "source": [
        "from sklearn.preprocessing import StandardScaler\n",
        "\n",
        "scaler = StandardScaler()\n",
        "X_train_scaled = scaler.fit_transform(X_train.astype(np.float64))\n",
        "cross_val_score(sgd_clf, X_train_scaled, y_train, cv=3, scoring='accuracy')"
      ],
      "metadata": {
        "colab": {
          "base_uri": "https://localhost:8080/"
        },
        "id": "9VALbWXn1YHg",
        "outputId": "d1df7bc9-8e45-492c-a26e-695a79e64526"
      },
      "execution_count": null,
      "outputs": [
        {
          "output_type": "execute_result",
          "data": {
            "text/plain": [
              "array([0.8983, 0.891 , 0.9018])"
            ]
          },
          "metadata": {},
          "execution_count": 61
        }
      ]
    },
    {
      "cell_type": "markdown",
      "source": [
        "**11. Error analysis**"
      ],
      "metadata": {
        "id": "Cd0nXY2t4x8n"
      }
    },
    {
      "cell_type": "code",
      "source": [
        "y_train_pred = cross_val_predict(sgd_clf, X_train_scaled, y_train, cv=3)\n",
        "conf_mx = confusion_matrix(y_train, y_train_pred)\n",
        "conf_mx"
      ],
      "metadata": {
        "colab": {
          "base_uri": "https://localhost:8080/"
        },
        "id": "SFUKokrJ43RA",
        "outputId": "e6fdaadb-e7b6-41f4-8381-6e9f4b0da785"
      },
      "execution_count": null,
      "outputs": [
        {
          "output_type": "execute_result",
          "data": {
            "text/plain": [
              "array([[5577,    0,   22,    5,    8,   43,   36,    6,  225,    1],\n",
              "       [   0, 6400,   37,   24,    4,   44,    4,    7,  212,   10],\n",
              "       [  27,   27, 5220,   92,   73,   27,   67,   36,  378,   11],\n",
              "       [  22,   17,  117, 5227,    2,  203,   27,   40,  403,   73],\n",
              "       [  12,   14,   41,    9, 5182,   12,   34,   27,  347,  164],\n",
              "       [  27,   15,   30,  168,   53, 4444,   75,   14,  535,   60],\n",
              "       [  30,   15,   42,    3,   44,   97, 5552,    3,  131,    1],\n",
              "       [  21,   10,   51,   30,   49,   12,    3, 5684,  195,  210],\n",
              "       [  17,   63,   48,   86,    3,  126,   25,   10, 5429,   44],\n",
              "       [  25,   18,   30,   64,  118,   36,    1,  179,  371, 5107]])"
            ]
          },
          "metadata": {},
          "execution_count": 62
        }
      ]
    },
    {
      "cell_type": "code",
      "source": [
        "plt.matshow(conf_mx, cmap=plt.cm.gray)\n",
        "plt.show()"
      ],
      "metadata": {
        "colab": {
          "base_uri": "https://localhost:8080/",
          "height": 275
        },
        "id": "uurB7xyZ5LpD",
        "outputId": "0c40ab41-4452-448b-d72c-bafd5a802987"
      },
      "execution_count": null,
      "outputs": [
        {
          "output_type": "display_data",
          "data": {
            "image/png": "[encoded data removed]",
            "text/plain": [
              "<Figure size 288x288 with 1 Axes>"
            ]
          },
          "metadata": {
            "needs_background": "light"
          }
        }
      ]
    }
  ]
}